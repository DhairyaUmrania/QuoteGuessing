{
 "cells": [
  {
   "cell_type": "code",
   "execution_count": 1,
   "id": "4fceff13-5e90-40cc-9b39-bd18592997e6",
   "metadata": {},
   "outputs": [],
   "source": [
    "import requests\n",
    "from bs4 import BeautifulSoup\n",
    "from csv import writer\n",
    "from time import sleep\n",
    "from random import choice"
   ]
  },
  {
   "cell_type": "code",
   "execution_count": 2,
   "id": "7dbc782b-10fd-437e-a580-5006772eb500",
   "metadata": {},
   "outputs": [],
   "source": [
    "all_quotes = []"
   ]
  },
  {
   "cell_type": "code",
   "execution_count": 3,
   "id": "49c73aa5-f02e-4896-9406-2b945f686e2f",
   "metadata": {},
   "outputs": [],
   "source": [
    "base_url = \"http://quotes.toscrape.com/\""
   ]
  },
  {
   "cell_type": "code",
   "execution_count": 4,
   "id": "7b8b689e-e2da-4111-b9b5-82876a24a99a",
   "metadata": {},
   "outputs": [],
   "source": [
    "url = \"/page/1\""
   ]
  },
  {
   "cell_type": "code",
   "execution_count": 5,
   "id": "1a928b74-d789-40e1-8795-b22d7780321c",
   "metadata": {},
   "outputs": [
    {
     "name": "stdout",
     "output_type": "stream",
     "text": [
      "Now Scrapinghttp://quotes.toscrape.com//page/1\n"
     ]
    }
   ],
   "source": [
    "while url:\n",
    "   \n",
    "    # concatenating both urls\n",
    "    # making request\n",
    "    res = requests.get(f\"{base_url}{url}\")\n",
    "    print(f\"Now Scraping{base_url}{url}\")\n",
    "    soup = BeautifulSoup(res.text, \"html.parser\")\n",
    " \n",
    "    # extracting all elements\n",
    "    quotes = soup.find_all(class_=\"quote\")\n",
    " \n",
    "    for quote in quotes:\n",
    "        all_quotes.append({\n",
    "            \"text\": quote.find(class_=\"text\").get_text(),\n",
    "            \"author\": quote.find(class_=\"author\").get_text(),\n",
    "            \"bio-link\": quote.find(\"a\")[\"href\"]\n",
    "        })\n",
    "    next_btn = soup.find(_class=\"next\")\n",
    "    url = next_btn.find(\"a\")[\"href\"] if next_btn else None\n",
    "    sleep(2)"
   ]
  },
  {
   "cell_type": "code",
   "execution_count": 6,
   "id": "175f9207-4e63-473d-b147-4dee143d6672",
   "metadata": {},
   "outputs": [
    {
     "name": "stdout",
     "output_type": "stream",
     "text": [
      "Here's a quote:  \n",
      "“It is better to be hated for what you are than to be loved for what you are not.”\n"
     ]
    }
   ],
   "source": [
    "quote = choice(all_quotes)\n",
    "remaining_guesses = 4\n",
    "print(\"Here's a quote:  \")\n",
    "print(quote[\"text\"])"
   ]
  },
  {
   "cell_type": "code",
   "execution_count": 7,
   "id": "144addf2-d885-4678-83c1-7c9c2fecf09b",
   "metadata": {},
   "outputs": [
    {
     "name": "stdin",
     "output_type": "stream",
     "text": [
      "Who said this quote? Guesses remaining 4 einstein\n"
     ]
    },
    {
     "name": "stdout",
     "output_type": "stream",
     "text": [
      "Here's a hint: The author was born on November 22, 1869in Paris, France\n"
     ]
    },
    {
     "name": "stdin",
     "output_type": "stream",
     "text": [
      "Who said this quote? Guesses remaining 3 shakespeare\n"
     ]
    },
    {
     "name": "stdout",
     "output_type": "stream",
     "text": [
      "Here's a hint: The author's first name starts with: A\n"
     ]
    },
    {
     "name": "stdin",
     "output_type": "stream",
     "text": [
      "Who said this quote? Guesses remaining 2 Albert Einstein\n"
     ]
    },
    {
     "name": "stdout",
     "output_type": "stream",
     "text": [
      "Here's a hint: The author's last name starts with: G\n"
     ]
    },
    {
     "name": "stdin",
     "output_type": "stream",
     "text": [
      "Who said this quote? Guesses remaining 1 Andre Gide\n"
     ]
    },
    {
     "name": "stdout",
     "output_type": "stream",
     "text": [
      "Sorry, you ran out of guesses. The answer was André Gide\n"
     ]
    }
   ],
   "source": [
    "guess = ''\n",
    "while guess.lower() != quote[\"author\"].lower() and remaining_guesses > 0:\n",
    "    guess = input(\n",
    "        f\"Who said this quote? Guesses remaining {remaining_guesses}\")\n",
    "     \n",
    "    if guess == quote[\"author\"]:\n",
    "        print(\"CONGRATULATIONS!!! YOU GOT IT RIGHT\")\n",
    "        break\n",
    "    remaining_guesses -= 1\n",
    "     \n",
    "    if remaining_guesses == 3:\n",
    "        res = requests.get(f\"{base_url}{quote['bio-link']}\")\n",
    "        soup = BeautifulSoup(res.text, \"html.parser\")\n",
    "        birth_date = soup.find(class_=\"author-born-date\").get_text()\n",
    "        birth_place = soup.find(class_=\"author-born-location\").get_text()\n",
    "        print(\n",
    "            f\"Here's a hint: The author was born on {birth_date}{birth_place}\")\n",
    "     \n",
    "    elif remaining_guesses == 2:\n",
    "        print(\n",
    "            f\"Here's a hint: The author's first name starts with: {quote['author'][0]}\")\n",
    "     \n",
    "    elif remaining_guesses == 1:\n",
    "        last_initial = quote[\"author\"].split(\" \")[1][0]\n",
    "        print(\n",
    "            f\"Here's a hint: The author's last name starts with: {last_initial}\")\n",
    "     \n",
    "    else:\n",
    "        print(\n",
    "            f\"Sorry, you ran out of guesses. The answer was {quote['author']}\")"
   ]
  },
  {
   "cell_type": "code",
   "execution_count": null,
   "id": "33d80fa8-6c2e-46f7-b872-e7eed4301ea4",
   "metadata": {},
   "outputs": [],
   "source": []
  }
 ],
 "metadata": {
  "kernelspec": {
   "display_name": "Python 3 (ipykernel)",
   "language": "python",
   "name": "python3"
  },
  "language_info": {
   "codemirror_mode": {
    "name": "ipython",
    "version": 3
   },
   "file_extension": ".py",
   "mimetype": "text/x-python",
   "name": "python",
   "nbconvert_exporter": "python",
   "pygments_lexer": "ipython3",
   "version": "3.12.6"
  }
 },
 "nbformat": 4,
 "nbformat_minor": 5
}
